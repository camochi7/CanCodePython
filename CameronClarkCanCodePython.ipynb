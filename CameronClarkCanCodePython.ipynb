# import necessary libraries
import pandas as pd
import numpy as np
import matplotlib.pyplot as plt

# random data for 700 entries
np.random.seed()
data = {'Name': ['John', 'Sue', 'Bob', 'Sandy', 'Tina']*140,
        'Age': np.random.randint(20, 60, 700),
        'Weight': np.random.randint(100, 250, 700),
        'Height': np.random.randint(150, 200, 700),
        'Gender': ['M', 'F', 'M', 'F', 'F']*140}
df = pd.DataFrame(data)

# remove duplicates
df = df.drop_duplicates()

# remove rows with invalid values
df = df[df['Age'] > 0]
df = df[df['Weight'] > 0]
df = df[df['Height'] > 0]

# fill missing values with median
df['Age'] = df['Age'].fillna(df['Age'].median())
df['Weight'] = df['Weight'].fillna(df['Weight'].median())
df['Height'] = df['Height'].fillna(df['Height'].median())


# calculations
print("Mean Age:", df['Age'].mean())
print("Median Age:", df['Age'].median())
print("Mode Age:", df['Age'].mode()[0])
print("Standard Deviation Age:", df['Age'].std())# create a scatterplot to show the relationship between Age and Weight
plt.scatter(df['Age'], df['Weight'], color='red')
plt.xlabel('Age')
plt.ylabel('Weight')
plt.title('Age vs Weight')
plt.show()

# bar plot to show the average Weight by Gender
df.groupby('Gender')['Weight'].mean().plot(kind='bar', color='blue')
plt.xlabel('Gender')
plt.ylabel('Average Weight')
plt.title('Average Weight by Gender')
plt.show()

# pie chart to show the proportion of Male and Female in the data
labels = 'Male', 'Female'
sizes = df['Gender'].value_counts()
colors = ['lightcoral', 'lightskyblue']
plt.pie(sizes, labels=labels, colors=colors, autopct='%1.1f%%', shadow=True)
plt.title('Proportion of Male and Female')
plt.show()

# frequency graph to show the number of people in each Age group
bins = [20, 30, 40, 50, 60]
labels = ['20-29', '30-39', '40-49', '50-59']
df['Age Group'] = pd.cut(df['Age'], bins=bins, labels=labels)
df['Age Group'].value_counts().plot(kind='bar', color='orange')
plt.xlabel('Age Group')
plt.ylabel('Frequency')
plt.title('Number of People in Each Age Group')
plt.show()

# scatterplot to show the relationship between Height and Weight
plt.scatter(df['Height'], df['Weight'], color='purple')
plt.xlabel('Height')
plt.ylabel('Weight')
plt.title('Height vs Weight')
plt.show()

# bar plot to show the average Height by Gender
df.groupby('Gender')['Height'].mean().plot(kind='bar', color='pink')
plt.xlabel('Gender')
plt.ylabel('Average Height')
plt.title('Average Height by Gender')
plt.show()

# scatterplot to show the relationship between Age and Weight
plt.scatter(df['Age'], df['Weight'], color='red')
plt.xlabel('Age')
plt.ylabel('Weight')
plt.title('Age vs Weight')
plt.show()
